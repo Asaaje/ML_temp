{
 "cells": [
  {
   "cell_type": "code",
   "execution_count": 92,
   "metadata": {
    "collapsed": false
   },
   "outputs": [],
   "source": [
    "import numpy as np\n",
    "import re\n",
    "from operator import itemgetter\n",
    "from scipy.spatial.distance import cosine "
   ]
  },
  {
   "cell_type": "code",
   "execution_count": 81,
   "metadata": {
    "collapsed": false
   },
   "outputs": [],
   "source": [
    "with open('sentences.txt', 'r') as file_obj:\n",
    "    sentences = [\n",
    "        [word for word in re.split('[^a-z]', sentence.strip().lower()) if len(word) > 0]\n",
    "        for sentence in file_obj.readlines()\n",
    "    ]"
   ]
  },
  {
   "cell_type": "code",
   "execution_count": 82,
   "metadata": {
    "collapsed": false
   },
   "outputs": [],
   "source": [
    "word_idx = {}\n",
    "for sentence in sentences:\n",
    "    for word in sentence:\n",
    "        if not word_idx.has_key(word):\n",
    "            word_idx[word] = len(word_idx)"
   ]
  },
  {
   "cell_type": "code",
   "execution_count": 83,
   "metadata": {
    "collapsed": false
   },
   "outputs": [
    {
     "data": {
      "text/plain": [
       "(22, 254)"
      ]
     },
     "execution_count": 83,
     "metadata": {},
     "output_type": "execute_result"
    }
   ],
   "source": [
    "x = np.zeros((len(sentences), len(word_idx)), int)\n",
    "for sentence_i, sentence in enumerate(sentences):\n",
    "    for word in sentence:\n",
    "        x[sentence_i, word_idx[word]] += 1\n",
    "x.shape"
   ]
  },
  {
   "cell_type": "code",
   "execution_count": 137,
   "metadata": {
    "collapsed": false
   },
   "outputs": [
    {
     "data": {
      "text/plain": [
       "[(6, 0.7327387580875756), (4, 0.77708871496985887)]"
      ]
     },
     "execution_count": 137,
     "metadata": {},
     "output_type": "execute_result"
    }
   ],
   "source": [
    "cos_distance = [\n",
    "    (sentence_i, cosine(x[sentence_i], x[0]))\n",
    "    for sentence_i in range(1, len(sentences))\n",
    "]\n",
    "cos_distance = sorted(cos_distance, key=itemgetter(1))\n",
    "cos_distance[:2]"
   ]
  },
  {
   "cell_type": "code",
   "execution_count": 138,
   "metadata": {
    "collapsed": false
   },
   "outputs": [
    {
     "name": "stdout",
     "output_type": "stream",
     "text": [
      "(6, 0.7327387580875756)\n",
      "(4, 0.77708871496985887)\n"
     ]
    }
   ],
   "source": [
    "print(cos_distance[0])\n",
    "print(cos_distance[1])\n",
    "with open('submission-1.txt', 'w') as file_obj:\n",
    "    file_obj.write(str(cos_distance[0][0]))\n",
    "    file_obj.write(' ')\n",
    "    file_obj.write(str(cos_distance[1][0]))"
   ]
  },
  {
   "cell_type": "code",
   "execution_count": null,
   "metadata": {
    "collapsed": true
   },
   "outputs": [],
   "source": []
  }
 ],
 "metadata": {
  "kernelspec": {
   "display_name": "Python 2",
   "language": "python",
   "name": "python2"
  },
  "language_info": {
   "codemirror_mode": {
    "name": "ipython",
    "version": 2
   },
   "file_extension": ".py",
   "mimetype": "text/x-python",
   "name": "python",
   "nbconvert_exporter": "python",
   "pygments_lexer": "ipython2",
   "version": "2.7.11"
  }
 },
 "nbformat": 4,
 "nbformat_minor": 0
}
